{
  "nbformat": 4,
  "nbformat_minor": 0,
  "metadata": {
    "colab": {
      "provenance": [],
      "include_colab_link": true
    },
    "kernelspec": {
      "name": "python3",
      "display_name": "Python 3"
    },
    "language_info": {
      "name": "python"
    }
  },
  "cells": [
    {
      "cell_type": "markdown",
      "metadata": {
        "id": "view-in-github",
        "colab_type": "text"
      },
      "source": [
        "<a href=\"https://colab.research.google.com/github/bestjin98/python_data_basic/blob/main/1%EC%A3%BC%EC%B0%A8/python_exercise_2.ipynb\" target=\"_parent\"><img src=\"https://colab.research.google.com/assets/colab-badge.svg\" alt=\"Open In Colab\"/></a>"
      ]
    },
    {
      "cell_type": "markdown",
      "source": [
        "#제어문\n"
      ],
      "metadata": {
        "id": "N6jhKKBL_QoN"
      }
    },
    {
      "cell_type": "markdown",
      "source": [
        "##IF문\n",
        "Q1. 다음 코드의 결과값은 무엇일까?\n",
        "\n",
        "a = \"Life is too short, you need python\"\n",
        "\n",
        "if \"wife\" in a: print(\"wife\")\n",
        "\n",
        "elif \"python\" in a and \"you\" not in a: print(\"python\")\n",
        "\n",
        "elif \"shirt\" not in a:print(\"shirt\")\n",
        "\n",
        "elif \"need\" in a: print(\"need\")\n",
        "\n",
        "else: print(\"none\")"
      ],
      "metadata": {
        "id": "3ryjv2Ld_WDO"
      }
    },
    {
      "cell_type": "code",
      "source": [
        "a = \"Life is too short, you need python\"\n",
        "\n",
        "if \"wife\" in a: print(\"wife\")\n",
        "\n",
        "elif \"python\" in a and \"you\" not in a: print(\"python\")\n",
        "\n",
        "elif \"shirt\" not in a:print(\"shirt\")\n",
        "\n",
        "elif \"need\" in a: print(\"need\")\n",
        "\n",
        "else: print(\"none\")"
      ],
      "metadata": {
        "id": "Pn9EMOr5Sx1V",
        "colab": {
          "base_uri": "https://localhost:8080/"
        },
        "outputId": "99fe6b03-dd47-465e-8c07-6a284aa190c0"
      },
      "execution_count": null,
      "outputs": [
        {
          "output_type": "stream",
          "name": "stdout",
          "text": [
            "shirt\n"
          ]
        }
      ]
    },
    {
      "cell_type": "markdown",
      "source": [
        "##While문\n",
        "Q1. while문을 이용하여 아래와 같이 별(*)을 표시하는 프로그램을 작성해보자\n"
      ],
      "metadata": {
        "id": "bsElD7Y2AJvC"
      }
    },
    {
      "cell_type": "code",
      "source": [
        "i = 0\n",
        "\n",
        "while i<6:\n",
        "    j=0\n",
        "    while j<6:\n",
        "        if(j<i):\n",
        "            print('*', end ='')\n",
        "        j+=1\n",
        "    i+=1\n",
        "    print()\n",
        "\n",
        "\n",
        "#결과값\n",
        "#*\n",
        "#**\n",
        "#***\n",
        "#****\n",
        "#*****"
      ],
      "metadata": {
        "id": "FB4lbVsG_e6X",
        "colab": {
          "base_uri": "https://localhost:8080/"
        },
        "outputId": "6996f476-1b67-457d-9394-2cef85907628"
      },
      "execution_count": null,
      "outputs": [
        {
          "output_type": "stream",
          "name": "stdout",
          "text": [
            "\n",
            "*\n",
            "**\n",
            "***\n",
            "****\n",
            "*****\n"
          ]
        }
      ]
    },
    {
      "cell_type": "markdown",
      "source": [
        "##For 문\n",
        "Q1. A학급에 총 10명의 학생이 있다. 이 학생들의 중간고사 점수는 다음과 같다\n",
        "\n",
        "[70, 60, 55, 75, 95, 90, 80, 80, 85, 100]\n",
        "\n",
        "for문을 이용하여 A학급의 평균 점수를 구해 보자"
      ],
      "metadata": {
        "id": "ZN-myqjRAkrG"
      }
    },
    {
      "cell_type": "code",
      "source": [
        "A = [70, 60, 55, 75, 95, 90, 80, 80, 85, 100]\n",
        "\n",
        "total = 0\n",
        "\n",
        "for score in A:\n",
        "    total += score\n",
        "\n",
        "average = total / len(A)\n",
        "\n",
        "print(average)\n",
        "\n",
        "#결과값\n",
        "#79.0"
      ],
      "metadata": {
        "id": "kwqG7nhdA0s8",
        "colab": {
          "base_uri": "https://localhost:8080/"
        },
        "outputId": "9d4fc75c-48f5-485e-e915-7baa00093e73"
      },
      "execution_count": 3,
      "outputs": [
        {
          "output_type": "stream",
          "name": "stdout",
          "text": [
            "79.0\n"
          ]
        }
      ]
    },
    {
      "cell_type": "markdown",
      "source": [
        "#함수"
      ],
      "metadata": {
        "id": "nhSVzV71BKip"
      }
    },
    {
      "cell_type": "markdown",
      "source": [
        "## 피보나치 수열"
      ],
      "metadata": {
        "id": "mUzBtRxkXn2v"
      }
    },
    {
      "cell_type": "markdown",
      "source": [
        "\n",
        "Q1. 첫번째 항의 값이 0이고 두 번째 항의 값이 1일때, 이후에 이어지는 항들은 이전의 두 항을 더한 값으로 이루어지는 수열을 피보나치 수열이라고 한다.\n",
        "\n",
        "0, 1, 1, 2, 3, 5, 8, 13, ...\n",
        "\n",
        "입력을 정수n으로 받았을 때, n 이하까지의 피보나치 수열을 출력하는 함수를 작성해보자"
      ],
      "metadata": {
        "id": "w6-sFvPeXm24"
      }
    },
    {
      "cell_type": "code",
      "source": [
        "def fib(n):\n",
        "    if n == 0:\n",
        "        return 0\n",
        "    elif n == 1:\n",
        "        return 1\n",
        "    else:\n",
        "        return fib(n-1) + fib(n-2)"
      ],
      "metadata": {
        "id": "xYHwfiuXJ39q"
      },
      "execution_count": 6,
      "outputs": []
    },
    {
      "cell_type": "code",
      "source": [
        "for i in range(10):\n",
        "    print(fib(i), end=\" \")"
      ],
      "metadata": {
        "id": "EtTo5Yi9Pn9L",
        "colab": {
          "base_uri": "https://localhost:8080/"
        },
        "outputId": "61c8b1e8-e156-473b-c622-d478dbfa18c1"
      },
      "execution_count": 7,
      "outputs": [
        {
          "output_type": "stream",
          "name": "stdout",
          "text": [
            "0 1 1 2 3 5 8 13 21 34 "
          ]
        }
      ]
    },
    {
      "cell_type": "markdown",
      "source": [
        "##문자열 압축하기\n",
        "Q1. 문자열을 입력 받아 같은 문자가 연속적으로 반복되는 경우에 그 반복 횟수를 표시해 문자열을 압축하여 표시해 보자\n",
        "\n",
        "> 입력예시: aaabbcccccca\n",
        "\n",
        "> 출력예시: a3b2c6a1"
      ],
      "metadata": {
        "id": "_P4Zg35NL6Vm"
      }
    },
    {
      "cell_type": "code",
      "source": [
        "def compress_string(s):\n",
        "    result = \"\"\n",
        "    count = 1\n",
        "    for i in range(len(s)-1):\n",
        "        if s[i] == s[i+1]:\n",
        "            count += 1\n",
        "        else:\n",
        "            result += s[i] + str(count)\n",
        "            count = 1\n",
        "    result += s[-1] + str(count)\n",
        "    return result"
      ],
      "metadata": {
        "id": "GsoG5EhNMJs4"
      },
      "execution_count": 8,
      "outputs": []
    },
    {
      "cell_type": "code",
      "source": [
        "print(compress_string(\"aaabbcccccca\"))"
      ],
      "metadata": {
        "id": "H1E5BkuKPL69",
        "colab": {
          "base_uri": "https://localhost:8080/"
        },
        "outputId": "b4a362fe-89e3-418c-f4b6-5d0fff91ebbe"
      },
      "execution_count": 9,
      "outputs": [
        {
          "output_type": "stream",
          "name": "stdout",
          "text": [
            "a3b2c6a1\n"
          ]
        }
      ]
    },
    {
      "cell_type": "markdown",
      "source": [
        "##Duplicate Numbers\n",
        "Q1. 0 ~ 9 까지의 문자로 된 숫자를 입력받았을 때, 이 입력값이 0 ~ 9까지의 모든 숫자가 각각 한 번씩만 사용된 것인지 확인하는 함수를 작성해 보자.\n",
        "\n",
        ">입력예시 : 0123456789 01234 01234567890 6789012345 012322456789\n",
        "\n",
        ">출력예시 : true false false true false"
      ],
      "metadata": {
        "id": "fpfVW4qwMMO_"
      }
    },
    {
      "cell_type": "code",
      "source": [
        "def chkDupNum(s):\n",
        "    result = []\n",
        "    \n",
        "    for num in s:\n",
        "        if num not in result:\n",
        "            result.append(num)\n",
        "        else:\n",
        "            return False\n",
        "    return len(result) == 10"
      ],
      "metadata": {
        "id": "LuXD0E0yM0nS"
      },
      "execution_count": 12,
      "outputs": []
    },
    {
      "cell_type": "code",
      "source": [
        "print(chkDupNum(\"0123456789\"))\n",
        "print(chkDupNum(\"01234\"))\n",
        "print(chkDupNum(\"01234567890\"))\n",
        "print(chkDupNum(\"6789012345\"))\n",
        "print(chkDupNum(\"012322456789\"))"
      ],
      "metadata": {
        "id": "Mw7jJPwDPDLP",
        "colab": {
          "base_uri": "https://localhost:8080/"
        },
        "outputId": "13701391-7934-4fd0-e120-2ee27ea73d12"
      },
      "execution_count": 13,
      "outputs": [
        {
          "output_type": "stream",
          "name": "stdout",
          "text": [
            "True\n",
            "False\n",
            "False\n",
            "True\n",
            "False\n"
          ]
        }
      ]
    },
    {
      "cell_type": "markdown",
      "source": [
        "#프로그램 구조"
      ],
      "metadata": {
        "id": "ah4ZzlwWLVWE"
      }
    },
    {
      "cell_type": "markdown",
      "source": [
        "##클래스\n",
        "Q1. 다음과 같이 동작하는 클래스 Calculator를 작성해 보자.\n",
        "\n",
        ">cal1 = Calculator([1,2,3,4,5])\n",
        "\n",
        ">cal1.sum() # 15\n",
        "\n",
        ">cal1.avg() # 3.0\n",
        "\n",
        ">cal2 = Calculator([6,7,8,9,10])\n",
        "\n",
        ">cal2.sum() # 40\n",
        "\n",
        "> cal2.avg() #8.0"
      ],
      "metadata": {
        "id": "9jjNEFxuKPRt"
      }
    },
    {
      "cell_type": "code",
      "source": [
        "class Calculator:\n",
        "  def __init__(self, numberList):\n",
        "    self.numberList = numberList\n",
        "  \n",
        "  def sum(self):\n",
        "    return sum(self.numberList)\n",
        "\n",
        "  def avg(self):\n",
        "    return sum(self.numberList) / len(self.numberList)"
      ],
      "metadata": {
        "id": "X7-hWEfVKqgG"
      },
      "execution_count": 26,
      "outputs": []
    },
    {
      "cell_type": "code",
      "source": [
        "cal1 = Calculator([1,2,3,4,5])\n",
        "print(cal1.sum()) # 15\n",
        "print(cal1.avg()) # 3.0"
      ],
      "metadata": {
        "id": "tParL02iLNGM",
        "colab": {
          "base_uri": "https://localhost:8080/"
        },
        "outputId": "d0c4c5f5-b0cc-49d7-a91a-6d2991cfa8e0"
      },
      "execution_count": 27,
      "outputs": [
        {
          "output_type": "stream",
          "name": "stdout",
          "text": [
            "15\n",
            "3.0\n"
          ]
        }
      ]
    },
    {
      "cell_type": "code",
      "source": [
        "cal2 = Calculator([6,7,8,9,10])\n",
        "print(cal2.sum()) # 40\n",
        "print(cal2.avg()) #8.0"
      ],
      "metadata": {
        "id": "IJmIXs2kLOu9",
        "colab": {
          "base_uri": "https://localhost:8080/"
        },
        "outputId": "f275f305-28f8-4677-af78-7b0936bd8192"
      },
      "execution_count": 28,
      "outputs": [
        {
          "output_type": "stream",
          "name": "stdout",
          "text": [
            "40\n",
            "8.0\n"
          ]
        }
      ]
    },
    {
      "cell_type": "markdown",
      "source": [
        "##모듈\n",
        "Q1. 이전 문제에서 작성한 Calculator 클래스를 calculator.py 라는 파일로 저장하자, 그리고 이 파일을 모듈로 사용하려고 한다. 다음처럼 동작하도록 만들어 보자\n"
      ],
      "metadata": {
        "id": "dxlQTTR3LSTJ"
      }
    },
    {
      "cell_type": "code",
      "source": [
        "# ??\n",
        "cal1 = Calculator([1,2,3,4,5])\n",
        "print(cal1.sum())\n",
        "print(cal1.avg())"
      ],
      "metadata": {
        "id": "pspQg_42LoSP",
        "colab": {
          "base_uri": "https://localhost:8080/"
        },
        "outputId": "dcb32221-bb83-41f2-b251-c596da36069e"
      },
      "execution_count": 39,
      "outputs": [
        {
          "output_type": "stream",
          "name": "stdout",
          "text": [
            "15\n",
            "3.0\n"
          ]
        }
      ]
    }
  ]
}